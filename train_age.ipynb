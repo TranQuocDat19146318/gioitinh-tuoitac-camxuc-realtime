{
  "nbformat": 4,
  "nbformat_minor": 0,
  "metadata": {
    "colab": {
      "name": "train age",
      "provenance": [],
      "collapsed_sections": [],
      "include_colab_link": true
    },
    "kernelspec": {
      "name": "python3",
      "display_name": "Python 3"
    },
    "language_info": {
      "name": "python"
    },
    "accelerator": "GPU"
  },
  "cells": [
    {
      "cell_type": "markdown",
      "metadata": {
        "id": "view-in-github",
        "colab_type": "text"
      },
      "source": [
        "<a href=\"https://colab.research.google.com/github/TranQuocDat19146318/gioitinh-tuoitac-camxuc-realtime/blob/main/train_age.ipynb\" target=\"_parent\"><img src=\"https://colab.research.google.com/assets/colab-badge.svg\" alt=\"Open In Colab\"/></a>"
      ]
    },
    {
      "cell_type": "code",
      "execution_count": 9,
      "metadata": {
        "colab": {
          "base_uri": "https://localhost:8080/"
        },
        "id": "NXk6UQRqPplY",
        "outputId": "ac4f823c-1d82-42ce-f03b-a3483f5592e6"
      },
      "outputs": [
        {
          "output_type": "stream",
          "name": "stdout",
          "text": [
            "Drive already mounted at /content/drive; to attempt to forcibly remount, call drive.mount(\"/content/drive\", force_remount=True).\n"
          ]
        }
      ],
      "source": [
        "from google.colab import drive \n",
        "drive.mount('/content/drive')"
      ]
    },
    {
      "cell_type": "code",
      "source": [
        "from keras import datasets, Sequential\n",
        "from keras.layers import Conv2D, Dense, MaxPooling2D, Flatten\n",
        "from keras.preprocessing import  image\n",
        "from keras.preprocessing.image import load_img, img_to_array,array_to_img,ImageDataGenerator\n",
        "import matplotlib.pyplot as plt\n",
        "import seaborn as sns\n",
        "import numpy as np\n",
        "from numpy import asarray\n",
        "from numpy import save\n",
        "import keras\n",
        "import os\n",
        "from os import listdir\n",
        "import cv2 as cv\n",
        "import tensorflow as tf\n",
        "from tensorflow.keras.optimizers import Adam, SGD\n",
        "from sklearn.model_selection import train_test_split"
      ],
      "metadata": {
        "id": "9vVubMUSP3oa"
      },
      "execution_count": 1,
      "outputs": []
    },
    {
      "cell_type": "code",
      "source": [
        "folder  = '/content/drive/MyDrive/project/age/face_age/018'\n",
        "folder1  = '/content/drive/MyDrive/project/age/face_age/019'\n",
        "folder2  = '/content/drive/MyDrive/project/age/face_age/020'\n",
        "folder3  = '/content/drive/MyDrive/project/age/face_age/021'\n",
        "folder4  = '/content/drive/MyDrive/project/age/face_age/022'\n",
        "folder5  = '/content/drive/MyDrive/project/age/face_age/023'\n",
        "folder6  = '/content/drive/MyDrive/project/age/face_age/024'\n",
        "folder7  = '/content/drive/MyDrive/project/age/face_age/025'\n",
        "folder8  = '/content/drive/MyDrive/project/age/face_age/026'\n",
        "folder9  = '/content/drive/MyDrive/project/age/face_age/027'\n",
        "folder10 = '/content/drive/MyDrive/project/age/face_age/028'\n",
        "folder11  = '/content/drive/MyDrive/project/age/face_age/029'\n",
        "folder12  = '/content/drive/MyDrive/project/age/face_age/030'\n",
        "#folder13 = '/content/drive/MyDrive/project/age/face_age/031'\n",
        "#folder14  = '/content/drive/MyDrive/project/age/face_age/032'\n",
        "#folder15  = '/content/drive/MyDrive/project/age/face_age/033'\n",
        "#folder16  = '/content/drive/MyDrive/project/age/face_age/034'\n",
        "#folder17  = '/content/drive/MyDrive/project/age/face_age/035'\n",
        "#folder18  = '/content/drive/MyDrive/project/age/face_age/036'\n",
        "#folder19  = '/content/drive/MyDrive/project/age/face_age/037'\n",
        "#folder20  = '/content/drive/MyDrive/project/age/face_age/038'\n",
        "#folder21  = '/content/drive/MyDrive/project/age/face_age/039'\n",
        "#folder22  = '/content/drive/MyDrive/project/age/face_age/040'\n",
        "\n",
        "\n",
        "folders=[folder,folder1,folder2,folder3,folder4,folder5,folder6,folder7,folder8,folder9,folder10,\n",
        "        folder11,folder12]#,folder13,folder14]#,folder15,folder16]#,folder17,folder18]#,folder19,folder20]\n",
        "        #folder21,folder22]\n",
        "photos, labels = list(), list()\n",
        "for i in range (13):\n",
        "  for file in listdir(folders[i]):\n",
        "    output=i\n",
        "\n",
        "    photo = load_img(folders[i]+'/'+file, target_size=(128,128))\n",
        "    photo = img_to_array(photo)\n",
        "    photos.append(photo)\n",
        "    labels.append(output)\n",
        "photos = asarray(photos)\n",
        "labels = asarray(labels)\n",
        "print(photos.shape, labels.shape)\n",
        "#save('/content/drive/MyDrive/project/age/age_photos.npy',photos)\n",
        "#save('/content/drive/MyDrive/project/age/age_labels.npy',labels)"
      ],
      "metadata": {
        "id": "hpVnvJOXP8rb",
        "colab": {
          "base_uri": "https://localhost:8080/"
        },
        "outputId": "abee72ea-8aa6-400b-812c-b46d75427eb7"
      },
      "execution_count": 4,
      "outputs": [
        {
          "output_type": "stream",
          "name": "stdout",
          "text": [
            "(14757, 128, 128, 3) (14757,)\n"
          ]
        }
      ]
    },
    {
      "cell_type": "code",
      "source": [
        "x_train, x_test, y_train, y_test = train_test_split(photos, labels, test_size=0.3, random_state=2)"
      ],
      "metadata": {
        "id": "qlo3nUiNSnk9"
      },
      "execution_count": 5,
      "outputs": []
    },
    {
      "cell_type": "code",
      "source": [
        "x_train /= 255\n",
        "x_test /= 255\n",
        "y_train = keras.utils.np_utils.to_categorical(y_train)\n",
        "y_test = keras.utils.np_utils.to_categorical(y_test)"
      ],
      "metadata": {
        "id": "FToUTBqFSrTF"
      },
      "execution_count": 6,
      "outputs": []
    },
    {
      "cell_type": "code",
      "source": [
        "#tạo model\n",
        "model = Sequential()\n",
        "model.add(Conv2D(32,(3,3), activation = 'relu', kernel_initializer='he_uniform',padding='same',input_shape=(128,128,3)))\n",
        "model.add(MaxPooling2D((2,2)))\n",
        "\n",
        "model.add(Conv2D(64,(3,3), activation = 'relu', kernel_initializer='he_uniform',padding='same'))\n",
        "model.add(MaxPooling2D((2,2)))\n",
        "\n",
        "model.add(Conv2D(128,(3,3), activation = 'relu', kernel_initializer='he_uniform',padding='same'))\n",
        "model.add(MaxPooling2D((2,2)))\n",
        "\n",
        "model.add(Conv2D(512,(3,3), activation = 'relu', kernel_initializer='he_uniform',padding='same'))\n",
        "model.add(MaxPooling2D((2,2)))"
      ],
      "metadata": {
        "id": "U0R__pqFSsuN"
      },
      "execution_count": 7,
      "outputs": []
    },
    {
      "cell_type": "code",
      "source": [
        "model.add(Flatten())\n",
        "model.add(Dense(512, activation='relu', kernel_initializer='he_uniform'))  #Dense la full connected \n",
        "model.add(Dense(13, activation='Softmax')) "
      ],
      "metadata": {
        "id": "45JE48EgS05s"
      },
      "execution_count": 8,
      "outputs": []
    },
    {
      "cell_type": "code",
      "source": [
        "opt = SGD(lr=0.01, momentum=0.9)\n",
        "model.compile(optimizer=opt,loss='categorical_crossentropy',  metrics=['accuracy'])"
      ],
      "metadata": {
        "colab": {
          "base_uri": "https://localhost:8080/"
        },
        "id": "Z3B6TZwNS8e_",
        "outputId": "0b5af60d-fda6-4cab-8e89-e1047de8a067"
      },
      "execution_count": 9,
      "outputs": [
        {
          "output_type": "stream",
          "name": "stderr",
          "text": [
            "/usr/local/lib/python3.7/dist-packages/keras/optimizer_v2/gradient_descent.py:102: UserWarning: The `lr` argument is deprecated, use `learning_rate` instead.\n",
            "  super(SGD, self).__init__(name, **kwargs)\n"
          ]
        }
      ]
    },
    {
      "cell_type": "code",
      "source": [
        "history = model.fit(x_train, y_train, batch_size=128, epochs=100, verbose=1,validation_data=(x_test, y_test))"
      ],
      "metadata": {
        "id": "TZjmEm1YS--e",
        "colab": {
          "base_uri": "https://localhost:8080/"
        },
        "outputId": "ed1a3a00-f3e9-4caf-f6df-37ac35f0ef05"
      },
      "execution_count": 10,
      "outputs": [
        {
          "output_type": "stream",
          "name": "stdout",
          "text": [
            "Epoch 1/100\n",
            "81/81 [==============================] - 26s 150ms/step - loss: 3.0464 - accuracy: 0.1024 - val_loss: 2.5302 - val_accuracy: 0.1066\n",
            "Epoch 2/100\n",
            "81/81 [==============================] - 10s 118ms/step - loss: 2.5283 - accuracy: 0.1111 - val_loss: 2.5292 - val_accuracy: 0.1066\n",
            "Epoch 3/100\n",
            "81/81 [==============================] - 8s 103ms/step - loss: 2.5273 - accuracy: 0.1093 - val_loss: 2.5287 - val_accuracy: 0.1066\n",
            "Epoch 4/100\n",
            "81/81 [==============================] - 8s 103ms/step - loss: 2.5274 - accuracy: 0.1111 - val_loss: 2.5293 - val_accuracy: 0.1066\n",
            "Epoch 5/100\n",
            "81/81 [==============================] - 8s 103ms/step - loss: 2.5270 - accuracy: 0.1085 - val_loss: 2.5292 - val_accuracy: 0.1066\n",
            "Epoch 6/100\n",
            "81/81 [==============================] - 8s 102ms/step - loss: 2.5275 - accuracy: 0.1111 - val_loss: 2.5291 - val_accuracy: 0.1066\n",
            "Epoch 7/100\n",
            "81/81 [==============================] - 8s 102ms/step - loss: 2.5273 - accuracy: 0.1098 - val_loss: 2.5283 - val_accuracy: 0.1066\n",
            "Epoch 8/100\n",
            "81/81 [==============================] - 8s 103ms/step - loss: 2.5270 - accuracy: 0.1111 - val_loss: 2.5290 - val_accuracy: 0.1066\n",
            "Epoch 9/100\n",
            "81/81 [==============================] - 8s 103ms/step - loss: 2.5267 - accuracy: 0.1111 - val_loss: 2.5284 - val_accuracy: 0.1066\n",
            "Epoch 10/100\n",
            "81/81 [==============================] - 8s 103ms/step - loss: 2.5264 - accuracy: 0.1091 - val_loss: 2.5273 - val_accuracy: 0.1066\n",
            "Epoch 11/100\n",
            "81/81 [==============================] - 8s 103ms/step - loss: 2.5252 - accuracy: 0.1109 - val_loss: 2.5265 - val_accuracy: 0.1084\n",
            "Epoch 12/100\n",
            "81/81 [==============================] - 8s 103ms/step - loss: 2.5248 - accuracy: 0.1098 - val_loss: 2.5249 - val_accuracy: 0.1084\n",
            "Epoch 13/100\n",
            "81/81 [==============================] - 9s 106ms/step - loss: 2.5233 - accuracy: 0.1081 - val_loss: 2.5238 - val_accuracy: 0.1093\n",
            "Epoch 14/100\n",
            "81/81 [==============================] - 8s 103ms/step - loss: 2.5207 - accuracy: 0.1080 - val_loss: 2.5203 - val_accuracy: 0.1098\n",
            "Epoch 15/100\n",
            "81/81 [==============================] - 8s 104ms/step - loss: 2.5187 - accuracy: 0.1102 - val_loss: 2.5220 - val_accuracy: 0.1091\n",
            "Epoch 16/100\n",
            "81/81 [==============================] - 8s 103ms/step - loss: 2.5164 - accuracy: 0.1071 - val_loss: 2.5180 - val_accuracy: 0.1109\n",
            "Epoch 17/100\n",
            "81/81 [==============================] - 8s 104ms/step - loss: 2.5134 - accuracy: 0.1144 - val_loss: 2.5201 - val_accuracy: 0.1116\n",
            "Epoch 18/100\n",
            "81/81 [==============================] - 8s 104ms/step - loss: 2.5121 - accuracy: 0.1092 - val_loss: 2.5167 - val_accuracy: 0.1107\n",
            "Epoch 19/100\n",
            "81/81 [==============================] - 8s 104ms/step - loss: 2.5084 - accuracy: 0.1184 - val_loss: 2.5194 - val_accuracy: 0.1102\n",
            "Epoch 20/100\n",
            "81/81 [==============================] - 8s 104ms/step - loss: 2.5048 - accuracy: 0.1198 - val_loss: 2.5168 - val_accuracy: 0.1118\n",
            "Epoch 21/100\n",
            "81/81 [==============================] - 8s 104ms/step - loss: 2.5005 - accuracy: 0.1206 - val_loss: 2.5190 - val_accuracy: 0.1068\n",
            "Epoch 22/100\n",
            "81/81 [==============================] - 10s 119ms/step - loss: 2.4978 - accuracy: 0.1223 - val_loss: 2.5188 - val_accuracy: 0.1156\n",
            "Epoch 23/100\n",
            "81/81 [==============================] - 8s 104ms/step - loss: 2.4925 - accuracy: 0.1295 - val_loss: 2.5190 - val_accuracy: 0.1161\n",
            "Epoch 24/100\n",
            "81/81 [==============================] - 8s 105ms/step - loss: 2.4831 - accuracy: 0.1366 - val_loss: 2.5203 - val_accuracy: 0.1122\n",
            "Epoch 25/100\n",
            "81/81 [==============================] - 8s 105ms/step - loss: 2.4749 - accuracy: 0.1422 - val_loss: 2.5243 - val_accuracy: 0.1208\n",
            "Epoch 26/100\n",
            "81/81 [==============================] - 8s 105ms/step - loss: 2.4619 - accuracy: 0.1490 - val_loss: 2.5348 - val_accuracy: 0.1170\n",
            "Epoch 27/100\n",
            "81/81 [==============================] - 8s 105ms/step - loss: 2.4459 - accuracy: 0.1605 - val_loss: 2.5390 - val_accuracy: 0.1181\n",
            "Epoch 28/100\n",
            "81/81 [==============================] - 8s 105ms/step - loss: 2.4230 - accuracy: 0.1717 - val_loss: 2.5513 - val_accuracy: 0.1140\n",
            "Epoch 29/100\n",
            "81/81 [==============================] - 8s 105ms/step - loss: 2.3887 - accuracy: 0.1853 - val_loss: 2.5678 - val_accuracy: 0.1075\n",
            "Epoch 30/100\n",
            "81/81 [==============================] - 8s 104ms/step - loss: 2.3573 - accuracy: 0.2013 - val_loss: 2.5748 - val_accuracy: 0.1145\n",
            "Epoch 31/100\n",
            "81/81 [==============================] - 8s 105ms/step - loss: 2.2968 - accuracy: 0.2238 - val_loss: 2.6001 - val_accuracy: 0.1120\n",
            "Epoch 32/100\n",
            "81/81 [==============================] - 9s 105ms/step - loss: 2.2078 - accuracy: 0.2565 - val_loss: 2.6887 - val_accuracy: 0.1145\n",
            "Epoch 33/100\n",
            "81/81 [==============================] - 8s 105ms/step - loss: 2.0796 - accuracy: 0.3110 - val_loss: 2.7434 - val_accuracy: 0.1109\n",
            "Epoch 34/100\n",
            "81/81 [==============================] - 9s 105ms/step - loss: 1.8989 - accuracy: 0.3743 - val_loss: 2.9025 - val_accuracy: 0.1089\n",
            "Epoch 35/100\n",
            "81/81 [==============================] - 8s 105ms/step - loss: 1.6117 - accuracy: 0.4746 - val_loss: 3.1823 - val_accuracy: 0.1199\n",
            "Epoch 36/100\n",
            "81/81 [==============================] - 9s 105ms/step - loss: 1.2441 - accuracy: 0.6002 - val_loss: 3.3945 - val_accuracy: 0.1174\n",
            "Epoch 37/100\n",
            "81/81 [==============================] - 9s 105ms/step - loss: 0.9068 - accuracy: 0.7159 - val_loss: 4.2275 - val_accuracy: 0.1210\n",
            "Epoch 38/100\n",
            "81/81 [==============================] - 9s 106ms/step - loss: 0.5847 - accuracy: 0.8210 - val_loss: 4.5154 - val_accuracy: 0.1296\n",
            "Epoch 39/100\n",
            "81/81 [==============================] - 9s 106ms/step - loss: 0.3967 - accuracy: 0.8899 - val_loss: 5.2238 - val_accuracy: 0.1280\n",
            "Epoch 40/100\n",
            "81/81 [==============================] - 9s 106ms/step - loss: 0.2607 - accuracy: 0.9376 - val_loss: 5.9041 - val_accuracy: 0.1296\n",
            "Epoch 41/100\n",
            "81/81 [==============================] - 9s 106ms/step - loss: 0.1990 - accuracy: 0.9598 - val_loss: 5.3771 - val_accuracy: 0.1373\n",
            "Epoch 42/100\n",
            "81/81 [==============================] - 10s 121ms/step - loss: 0.1474 - accuracy: 0.9774 - val_loss: 5.6336 - val_accuracy: 0.1384\n",
            "Epoch 43/100\n",
            "81/81 [==============================] - 9s 105ms/step - loss: 0.1153 - accuracy: 0.9847 - val_loss: 5.2260 - val_accuracy: 0.1375\n",
            "Epoch 44/100\n",
            "81/81 [==============================] - 9s 106ms/step - loss: 0.1042 - accuracy: 0.9854 - val_loss: 5.0361 - val_accuracy: 0.1364\n",
            "Epoch 45/100\n",
            "81/81 [==============================] - 9s 106ms/step - loss: 0.0952 - accuracy: 0.9860 - val_loss: 5.0468 - val_accuracy: 0.1380\n",
            "Epoch 46/100\n",
            "81/81 [==============================] - 9s 106ms/step - loss: 0.0808 - accuracy: 0.9870 - val_loss: 4.9532 - val_accuracy: 0.1312\n",
            "Epoch 47/100\n",
            "81/81 [==============================] - 9s 106ms/step - loss: 0.0799 - accuracy: 0.9861 - val_loss: 4.8549 - val_accuracy: 0.1378\n",
            "Epoch 48/100\n",
            "81/81 [==============================] - 9s 106ms/step - loss: 0.0683 - accuracy: 0.9872 - val_loss: 4.8572 - val_accuracy: 0.1339\n",
            "Epoch 49/100\n",
            "81/81 [==============================] - 9s 106ms/step - loss: 0.0685 - accuracy: 0.9865 - val_loss: 4.8716 - val_accuracy: 0.1355\n",
            "Epoch 50/100\n",
            "81/81 [==============================] - 9s 106ms/step - loss: 0.0670 - accuracy: 0.9866 - val_loss: 4.8487 - val_accuracy: 0.1364\n",
            "Epoch 51/100\n",
            "81/81 [==============================] - 9s 106ms/step - loss: 0.0541 - accuracy: 0.9876 - val_loss: 4.9503 - val_accuracy: 0.1350\n",
            "Epoch 52/100\n",
            "81/81 [==============================] - 9s 106ms/step - loss: 0.0596 - accuracy: 0.9872 - val_loss: 4.8647 - val_accuracy: 0.1384\n",
            "Epoch 53/100\n",
            "81/81 [==============================] - 9s 106ms/step - loss: 0.0579 - accuracy: 0.9867 - val_loss: 4.6521 - val_accuracy: 0.1393\n",
            "Epoch 54/100\n",
            "81/81 [==============================] - 9s 106ms/step - loss: 0.0535 - accuracy: 0.9872 - val_loss: 4.8560 - val_accuracy: 0.1364\n",
            "Epoch 55/100\n",
            "81/81 [==============================] - 10s 121ms/step - loss: 0.0526 - accuracy: 0.9871 - val_loss: 4.7034 - val_accuracy: 0.1330\n",
            "Epoch 56/100\n",
            "81/81 [==============================] - 9s 106ms/step - loss: 0.0490 - accuracy: 0.9870 - val_loss: 4.7514 - val_accuracy: 0.1430\n",
            "Epoch 57/100\n",
            "81/81 [==============================] - 10s 121ms/step - loss: 0.0496 - accuracy: 0.9868 - val_loss: 4.7859 - val_accuracy: 0.1350\n",
            "Epoch 58/100\n",
            "81/81 [==============================] - 9s 106ms/step - loss: 0.0451 - accuracy: 0.9872 - val_loss: 4.9277 - val_accuracy: 0.1332\n",
            "Epoch 59/100\n",
            "81/81 [==============================] - 9s 106ms/step - loss: 0.0443 - accuracy: 0.9870 - val_loss: 4.9057 - val_accuracy: 0.1411\n",
            "Epoch 60/100\n",
            "81/81 [==============================] - 9s 106ms/step - loss: 0.0451 - accuracy: 0.9870 - val_loss: 4.7683 - val_accuracy: 0.1393\n",
            "Epoch 61/100\n",
            "81/81 [==============================] - 9s 106ms/step - loss: 0.0434 - accuracy: 0.9869 - val_loss: 4.8818 - val_accuracy: 0.1373\n",
            "Epoch 62/100\n",
            "81/81 [==============================] - 10s 121ms/step - loss: 0.0422 - accuracy: 0.9873 - val_loss: 4.8417 - val_accuracy: 0.1337\n",
            "Epoch 63/100\n",
            "81/81 [==============================] - 9s 106ms/step - loss: 0.0396 - accuracy: 0.9873 - val_loss: 4.7912 - val_accuracy: 0.1362\n",
            "Epoch 64/100\n",
            "81/81 [==============================] - 9s 106ms/step - loss: 0.0402 - accuracy: 0.9872 - val_loss: 4.7887 - val_accuracy: 0.1366\n",
            "Epoch 65/100\n",
            "81/81 [==============================] - 9s 106ms/step - loss: 0.0381 - accuracy: 0.9871 - val_loss: 4.9191 - val_accuracy: 0.1387\n",
            "Epoch 66/100\n",
            "81/81 [==============================] - 9s 106ms/step - loss: 0.0401 - accuracy: 0.9866 - val_loss: 4.6899 - val_accuracy: 0.1360\n",
            "Epoch 67/100\n",
            "81/81 [==============================] - 10s 121ms/step - loss: 0.0389 - accuracy: 0.9873 - val_loss: 4.7996 - val_accuracy: 0.1391\n",
            "Epoch 68/100\n",
            "81/81 [==============================] - 9s 106ms/step - loss: 0.0381 - accuracy: 0.9873 - val_loss: 4.9453 - val_accuracy: 0.1366\n",
            "Epoch 69/100\n",
            "81/81 [==============================] - 9s 106ms/step - loss: 0.0369 - accuracy: 0.9874 - val_loss: 4.8501 - val_accuracy: 0.1366\n",
            "Epoch 70/100\n",
            "81/81 [==============================] - 9s 106ms/step - loss: 0.0375 - accuracy: 0.9869 - val_loss: 4.7780 - val_accuracy: 0.1393\n",
            "Epoch 71/100\n",
            "81/81 [==============================] - 9s 108ms/step - loss: 0.0356 - accuracy: 0.9876 - val_loss: 4.7649 - val_accuracy: 0.1344\n",
            "Epoch 72/100\n",
            "81/81 [==============================] - 9s 106ms/step - loss: 0.0351 - accuracy: 0.9880 - val_loss: 4.8724 - val_accuracy: 0.1344\n",
            "Epoch 73/100\n",
            "81/81 [==============================] - 9s 106ms/step - loss: 0.0336 - accuracy: 0.9878 - val_loss: 4.9147 - val_accuracy: 0.1389\n",
            "Epoch 74/100\n",
            "81/81 [==============================] - 9s 106ms/step - loss: 0.0368 - accuracy: 0.9866 - val_loss: 4.7859 - val_accuracy: 0.1398\n",
            "Epoch 75/100\n",
            "81/81 [==============================] - 10s 122ms/step - loss: 0.0351 - accuracy: 0.9869 - val_loss: 4.7863 - val_accuracy: 0.1405\n",
            "Epoch 76/100\n",
            "81/81 [==============================] - 9s 106ms/step - loss: 0.0326 - accuracy: 0.9877 - val_loss: 4.8485 - val_accuracy: 0.1407\n",
            "Epoch 77/100\n",
            "81/81 [==============================] - 9s 106ms/step - loss: 0.0344 - accuracy: 0.9873 - val_loss: 4.8278 - val_accuracy: 0.1317\n",
            "Epoch 78/100\n",
            "81/81 [==============================] - 9s 106ms/step - loss: 0.0321 - accuracy: 0.9882 - val_loss: 4.8457 - val_accuracy: 0.1380\n",
            "Epoch 79/100\n",
            "81/81 [==============================] - 9s 106ms/step - loss: 0.0319 - accuracy: 0.9878 - val_loss: 4.8675 - val_accuracy: 0.1414\n",
            "Epoch 80/100\n",
            "81/81 [==============================] - 9s 106ms/step - loss: 0.0324 - accuracy: 0.9881 - val_loss: 4.8192 - val_accuracy: 0.1362\n",
            "Epoch 81/100\n",
            "81/81 [==============================] - 9s 106ms/step - loss: 0.0330 - accuracy: 0.9870 - val_loss: 4.9150 - val_accuracy: 0.1396\n",
            "Epoch 82/100\n",
            "81/81 [==============================] - 9s 106ms/step - loss: 0.0308 - accuracy: 0.9872 - val_loss: 4.9248 - val_accuracy: 0.1366\n",
            "Epoch 83/100\n",
            "81/81 [==============================] - 9s 107ms/step - loss: 0.0307 - accuracy: 0.9877 - val_loss: 4.9136 - val_accuracy: 0.1350\n",
            "Epoch 84/100\n",
            "81/81 [==============================] - 9s 107ms/step - loss: 0.0302 - accuracy: 0.9871 - val_loss: 4.9580 - val_accuracy: 0.1400\n",
            "Epoch 85/100\n",
            "81/81 [==============================] - 9s 106ms/step - loss: 0.0320 - accuracy: 0.9873 - val_loss: 4.8074 - val_accuracy: 0.1405\n",
            "Epoch 86/100\n",
            "81/81 [==============================] - 9s 106ms/step - loss: 0.0301 - accuracy: 0.9876 - val_loss: 4.8533 - val_accuracy: 0.1389\n",
            "Epoch 87/100\n",
            "81/81 [==============================] - 9s 106ms/step - loss: 0.0295 - accuracy: 0.9879 - val_loss: 4.9031 - val_accuracy: 0.1350\n",
            "Epoch 88/100\n",
            "81/81 [==============================] - 10s 121ms/step - loss: 0.0309 - accuracy: 0.9865 - val_loss: 4.9012 - val_accuracy: 0.1355\n",
            "Epoch 89/100\n",
            "81/81 [==============================] - 9s 106ms/step - loss: 0.0267 - accuracy: 0.9884 - val_loss: 4.8875 - val_accuracy: 0.1341\n",
            "Epoch 90/100\n",
            "81/81 [==============================] - 9s 106ms/step - loss: 0.0283 - accuracy: 0.9877 - val_loss: 4.9357 - val_accuracy: 0.1411\n",
            "Epoch 91/100\n",
            "81/81 [==============================] - 9s 107ms/step - loss: 0.0300 - accuracy: 0.9873 - val_loss: 4.8540 - val_accuracy: 0.1364\n",
            "Epoch 92/100\n",
            "81/81 [==============================] - 9s 107ms/step - loss: 0.0299 - accuracy: 0.9860 - val_loss: 4.8331 - val_accuracy: 0.1398\n",
            "Epoch 93/100\n",
            "81/81 [==============================] - 9s 106ms/step - loss: 0.0278 - accuracy: 0.9867 - val_loss: 4.9114 - val_accuracy: 0.1393\n",
            "Epoch 94/100\n",
            "81/81 [==============================] - 9s 107ms/step - loss: 0.0280 - accuracy: 0.9871 - val_loss: 4.8467 - val_accuracy: 0.1382\n",
            "Epoch 95/100\n",
            "81/81 [==============================] - 9s 106ms/step - loss: 0.0280 - accuracy: 0.9872 - val_loss: 4.9098 - val_accuracy: 0.1398\n",
            "Epoch 96/100\n",
            "81/81 [==============================] - 9s 107ms/step - loss: 0.0282 - accuracy: 0.9869 - val_loss: 4.8486 - val_accuracy: 0.1384\n",
            "Epoch 97/100\n",
            "81/81 [==============================] - 9s 107ms/step - loss: 0.0283 - accuracy: 0.9868 - val_loss: 4.8393 - val_accuracy: 0.1366\n",
            "Epoch 98/100\n",
            "81/81 [==============================] - 10s 122ms/step - loss: 0.0275 - accuracy: 0.9864 - val_loss: 4.8873 - val_accuracy: 0.1391\n",
            "Epoch 99/100\n",
            "81/81 [==============================] - 9s 107ms/step - loss: 0.0263 - accuracy: 0.9869 - val_loss: 4.9022 - val_accuracy: 0.1400\n",
            "Epoch 100/100\n",
            "81/81 [==============================] - 9s 106ms/step - loss: 0.0270 - accuracy: 0.9876 - val_loss: 4.9641 - val_accuracy: 0.1366\n"
          ]
        }
      ]
    },
    {
      "cell_type": "code",
      "source": [
        "plt.plot(history.history['accuracy'])\n",
        "plt.plot(history.history['val_accuracy'])\n",
        "plt.title('Model Accuracy')\n",
        "plt.xlabel('epoch')\n",
        "plt.legend(['Train','Valition'], loc='upper left')\n",
        "plt.show()"
      ],
      "metadata": {
        "colab": {
          "base_uri": "https://localhost:8080/",
          "height": 295
        },
        "id": "PvVQ4TDsUSKC",
        "outputId": "28eedc88-645a-42bf-d181-c70dc9a4bde8"
      },
      "execution_count": 11,
      "outputs": [
        {
          "output_type": "display_data",
          "data": {
            "text/plain": [
              "<Figure size 432x288 with 1 Axes>"
            ],
            "image/png": "[encoded data removed]"
          },
          "metadata": {
            "needs_background": "light"
          }
        }
      ]
    },
    {
      "cell_type": "code",
      "source": [
        "model.save('/content/drive/MyDrive/project/age_model.h5')"
      ],
      "metadata": {
        "id": "g1B0M0uGrmbF"
      },
      "execution_count": 12,
      "outputs": []
    }
  ]
}