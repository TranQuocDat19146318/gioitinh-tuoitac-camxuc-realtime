{
  "nbformat": 4,
  "nbformat_minor": 0,
  "metadata": {
    "colab": {
      "name": "Emotion train",
      "provenance": [],
      "collapsed_sections": [],
      "include_colab_link": true
    },
    "kernelspec": {
      "name": "python3",
      "display_name": "Python 3"
    },
    "language_info": {
      "name": "python"
    },
    "accelerator": "GPU"
  },
  "cells": [
    {
      "cell_type": "markdown",
      "metadata": {
        "id": "view-in-github",
        "colab_type": "text"
      },
      "source": [
        "<a href=\"https://colab.research.google.com/github/TranQuocDat19146318/gioitinh-tuoitac-camxuc-realtime/blob/main/Emotion_train.ipynb\" target=\"_parent\"><img src=\"https://colab.research.google.com/assets/colab-badge.svg\" alt=\"Open In Colab\"/></a>"
      ]
    },
    {
      "cell_type": "code",
      "execution_count": null,
      "metadata": {
        "colab": {
          "base_uri": "https://localhost:8080/"
        },
        "id": "o3gkKvJ6vQcZ",
        "outputId": "acc6f436-81c4-4a73-bd83-0485181717bb"
      },
      "outputs": [
        {
          "output_type": "stream",
          "name": "stdout",
          "text": [
            "Mounted at /content/drive\n"
          ]
        }
      ],
      "source": [
        "from google.colab import drive \n",
        "drive.mount('/content/drive')"
      ]
    },
    {
      "cell_type": "code",
      "source": [
        "from keras import datasets, Sequential\n",
        "from keras.layers import Conv2D, Dense, MaxPooling2D, Flatten\n",
        "from keras.preprocessing import  image\n",
        "from keras.preprocessing.image import load_img, img_to_array,array_to_img,ImageDataGenerator\n",
        "import matplotlib.pyplot as plt\n",
        "import seaborn as sns\n",
        "import numpy as np\n",
        "from numpy import asarray\n",
        "from numpy import save\n",
        "import keras\n",
        "import os\n",
        "from os import listdir\n",
        "import cv2 as cv\n",
        "import tensorflow as tf\n",
        "from tensorflow.keras.optimizers import Adam, SGD\n",
        "from sklearn.model_selection import train_test_split"
      ],
      "metadata": {
        "id": "EZryFs5mvhXC"
      },
      "execution_count": null,
      "outputs": []
    },
    {
      "cell_type": "code",
      "source": [
        "folder  = '/content/drive/MyDrive/project/fer13/train/angry'\n",
        "folder1 ='/content/drive/MyDrive/project/fer13/train/disgust'\n",
        "folder2 = '/content/drive/MyDrive/project/fer13/train/fear'\n",
        "folder3 = '/content/drive/MyDrive/project/fer13/train/happy'\n",
        "folder4 = '/content/drive/MyDrive/project/fer13/train/neutral'\n",
        "folder5 = '/content/drive/MyDrive/project/fer13/train/sad'\n",
        "folder6 = '/content/drive/MyDrive/project/fer13/train/surprise'\n",
        "folders=[folder,folder1,folder2,folder3,folder4,folder5,folder6]\n",
        "photos, labels = list(), list()\n",
        "for i in range (7):\n",
        "  for file in listdir(folders[i]):\n",
        "    output=i\n",
        "\n",
        "    photo = load_img(folders[i]+'/'+file, target_size=(48,48))\n",
        "    photo = img_to_array(photo)\n",
        "    photos.append(photo)\n",
        "    labels.append(output)\n",
        "photos = asarray(photos)\n",
        "labels = asarray(labels)\n",
        "print(photos.shape, labels.shape)\n",
        "save('/content/drive/MyDrive/project/fer13/photo/emotion_photos.npy',photos)\n",
        "save('/content/drive/MyDrive/project/fer13/label/emotion_labels.npy',labels)"
      ],
      "metadata": {
        "colab": {
          "base_uri": "https://localhost:8080/"
        },
        "id": "emOnBgb7vj9x",
        "outputId": "7a085ec2-fa73-4d2c-ce64-c925de69683a"
      },
      "execution_count": null,
      "outputs": [
        {
          "output_type": "stream",
          "name": "stdout",
          "text": [
            "(28709, 48, 48, 3) (28709,)\n"
          ]
        }
      ]
    },
    {
      "cell_type": "code",
      "source": [
        "x_train, x_test, y_train, y_test = train_test_split(photos, labels, test_size=0.3, random_state=2)"
      ],
      "metadata": {
        "id": "A9VWs_kCwRgg"
      },
      "execution_count": null,
      "outputs": []
    },
    {
      "cell_type": "code",
      "source": [
        "x_train /= 255\n",
        "x_test /= 255\n",
        "y_train = keras.utils.np_utils.to_categorical(y_train)\n",
        "y_test = keras.utils.np_utils.to_categorical(y_test)"
      ],
      "metadata": {
        "id": "y_fIyeTXwUlX"
      },
      "execution_count": null,
      "outputs": []
    },
    {
      "cell_type": "code",
      "source": [
        "#tạo model\n",
        "model = Sequential()\n",
        "model.add(Conv2D(32,(3,3), activation = 'relu', kernel_initializer='he_uniform',padding='same',input_shape=(48,48,3)))\n",
        "model.add(MaxPooling2D((2,2)))\n",
        "\n",
        "model.add(Conv2D(64,(3,3), activation = 'relu', kernel_initializer='he_uniform',padding='same'))\n",
        "model.add(MaxPooling2D((2,2)))\n",
        "\n",
        "model.add(Conv2D(128,(3,3), activation = 'relu', kernel_initializer='he_uniform',padding='same'))\n",
        "model.add(MaxPooling2D((2,2)))\n",
        "\n",
        "model.add(Conv2D(512,(3,3), activation = 'relu', kernel_initializer='he_uniform',padding='same'))\n",
        "model.add(MaxPooling2D((2,2)))\n"
      ],
      "metadata": {
        "id": "b3tzYsmbwWe5"
      },
      "execution_count": null,
      "outputs": []
    },
    {
      "cell_type": "code",
      "source": [
        "model.add(Flatten())\n",
        "model.add(Dense(512, activation='relu', kernel_initializer='he_uniform'))  #Dense la full connected \n",
        "model.add(Dense(7, activation='Softmax'))"
      ],
      "metadata": {
        "id": "EEimotJbwYoT"
      },
      "execution_count": null,
      "outputs": []
    },
    {
      "cell_type": "code",
      "source": [
        "opt = SGD(lr=0.01, momentum=0.9)\n",
        "model.compile(optimizer=opt,loss='categorical_crossentropy',  metrics=['accuracy'])"
      ],
      "metadata": {
        "colab": {
          "base_uri": "https://localhost:8080/"
        },
        "id": "XKuU-KX5wfv9",
        "outputId": "94c74cfa-efaa-460e-aae8-dd87b5b6a0a9"
      },
      "execution_count": null,
      "outputs": [
        {
          "output_type": "stream",
          "name": "stderr",
          "text": [
            "/usr/local/lib/python3.7/dist-packages/keras/optimizer_v2/gradient_descent.py:102: UserWarning: The `lr` argument is deprecated, use `learning_rate` instead.\n",
            "  super(SGD, self).__init__(name, **kwargs)\n"
          ]
        }
      ]
    },
    {
      "cell_type": "code",
      "source": [
        "history = model.fit(x_train, y_train, batch_size=128, epochs=100, verbose=1,validation_data=(x_test, y_test))"
      ],
      "metadata": {
        "colab": {
          "base_uri": "https://localhost:8080/"
        },
        "id": "70EEG35jwhJm",
        "outputId": "d5418ac2-0297-48b7-f0c5-d666716a17b3"
      },
      "execution_count": null,
      "outputs": [
        {
          "output_type": "stream",
          "name": "stdout",
          "text": [
            "Epoch 1/100\n",
            "157/157 [==============================] - 15s 23ms/step - loss: 1.8746 - accuracy: 0.2502 - val_loss: 1.7656 - val_accuracy: 0.2780\n",
            "Epoch 2/100\n",
            "157/157 [==============================] - 3s 19ms/step - loss: 1.7112 - accuracy: 0.3129 - val_loss: 1.6943 - val_accuracy: 0.3312\n",
            "Epoch 3/100\n",
            "157/157 [==============================] - 3s 19ms/step - loss: 1.5737 - accuracy: 0.3907 - val_loss: 1.5312 - val_accuracy: 0.4182\n",
            "Epoch 4/100\n",
            "157/157 [==============================] - 3s 19ms/step - loss: 1.4782 - accuracy: 0.4358 - val_loss: 1.4617 - val_accuracy: 0.4364\n",
            "Epoch 5/100\n",
            "157/157 [==============================] - 3s 19ms/step - loss: 1.3857 - accuracy: 0.4715 - val_loss: 1.3999 - val_accuracy: 0.4614\n",
            "Epoch 6/100\n",
            "157/157 [==============================] - 3s 20ms/step - loss: 1.3037 - accuracy: 0.5028 - val_loss: 1.3503 - val_accuracy: 0.4829\n",
            "Epoch 7/100\n",
            "157/157 [==============================] - 3s 20ms/step - loss: 1.2289 - accuracy: 0.5366 - val_loss: 1.3197 - val_accuracy: 0.5002\n",
            "Epoch 8/100\n",
            "157/157 [==============================] - 3s 19ms/step - loss: 1.1404 - accuracy: 0.5714 - val_loss: 1.3059 - val_accuracy: 0.5168\n",
            "Epoch 9/100\n",
            "157/157 [==============================] - 3s 20ms/step - loss: 1.0590 - accuracy: 0.6033 - val_loss: 1.2896 - val_accuracy: 0.5226\n",
            "Epoch 10/100\n",
            "157/157 [==============================] - 3s 19ms/step - loss: 0.9459 - accuracy: 0.6518 - val_loss: 1.3222 - val_accuracy: 0.5186\n",
            "Epoch 11/100\n",
            "157/157 [==============================] - 3s 19ms/step - loss: 0.8565 - accuracy: 0.6848 - val_loss: 1.3814 - val_accuracy: 0.5121\n",
            "Epoch 12/100\n",
            "157/157 [==============================] - 3s 19ms/step - loss: 0.7546 - accuracy: 0.7222 - val_loss: 1.5618 - val_accuracy: 0.4882\n",
            "Epoch 13/100\n",
            "157/157 [==============================] - 3s 19ms/step - loss: 0.6522 - accuracy: 0.7627 - val_loss: 1.4875 - val_accuracy: 0.5294\n",
            "Epoch 14/100\n",
            "157/157 [==============================] - 3s 19ms/step - loss: 0.5486 - accuracy: 0.8009 - val_loss: 1.6012 - val_accuracy: 0.5006\n",
            "Epoch 15/100\n",
            "157/157 [==============================] - 3s 19ms/step - loss: 0.4338 - accuracy: 0.8455 - val_loss: 1.7796 - val_accuracy: 0.5295\n",
            "Epoch 16/100\n",
            "157/157 [==============================] - 3s 19ms/step - loss: 0.3589 - accuracy: 0.8735 - val_loss: 1.8929 - val_accuracy: 0.5278\n",
            "Epoch 17/100\n",
            "157/157 [==============================] - 3s 19ms/step - loss: 0.2652 - accuracy: 0.9071 - val_loss: 2.1729 - val_accuracy: 0.5035\n",
            "Epoch 18/100\n",
            "157/157 [==============================] - 3s 20ms/step - loss: 0.2503 - accuracy: 0.9144 - val_loss: 2.3714 - val_accuracy: 0.5255\n",
            "Epoch 19/100\n",
            "157/157 [==============================] - 3s 19ms/step - loss: 0.1930 - accuracy: 0.9340 - val_loss: 2.4136 - val_accuracy: 0.5205\n",
            "Epoch 20/100\n",
            "157/157 [==============================] - 3s 19ms/step - loss: 0.1220 - accuracy: 0.9606 - val_loss: 2.5614 - val_accuracy: 0.5294\n",
            "Epoch 21/100\n",
            "157/157 [==============================] - 3s 19ms/step - loss: 0.1495 - accuracy: 0.9502 - val_loss: 2.4853 - val_accuracy: 0.5211\n",
            "Epoch 22/100\n",
            "157/157 [==============================] - 3s 19ms/step - loss: 0.1201 - accuracy: 0.9608 - val_loss: 2.7029 - val_accuracy: 0.5253\n",
            "Epoch 23/100\n",
            "157/157 [==============================] - 3s 20ms/step - loss: 0.0958 - accuracy: 0.9707 - val_loss: 2.6716 - val_accuracy: 0.5241\n",
            "Epoch 24/100\n",
            "157/157 [==============================] - 3s 21ms/step - loss: 0.0980 - accuracy: 0.9690 - val_loss: 2.8560 - val_accuracy: 0.5012\n",
            "Epoch 25/100\n",
            "157/157 [==============================] - 3s 20ms/step - loss: 0.0798 - accuracy: 0.9743 - val_loss: 3.0755 - val_accuracy: 0.5294\n",
            "Epoch 26/100\n",
            "157/157 [==============================] - 3s 19ms/step - loss: 0.0519 - accuracy: 0.9865 - val_loss: 3.0313 - val_accuracy: 0.5384\n",
            "Epoch 27/100\n",
            "157/157 [==============================] - 3s 20ms/step - loss: 0.0394 - accuracy: 0.9891 - val_loss: 3.2792 - val_accuracy: 0.5191\n",
            "Epoch 28/100\n",
            "157/157 [==============================] - 3s 19ms/step - loss: 0.0434 - accuracy: 0.9888 - val_loss: 3.1182 - val_accuracy: 0.5217\n",
            "Epoch 29/100\n",
            "157/157 [==============================] - 3s 19ms/step - loss: 0.0256 - accuracy: 0.9950 - val_loss: 3.2327 - val_accuracy: 0.5345\n",
            "Epoch 30/100\n",
            "157/157 [==============================] - 3s 19ms/step - loss: 0.0206 - accuracy: 0.9966 - val_loss: 3.2893 - val_accuracy: 0.5414\n",
            "Epoch 31/100\n",
            "157/157 [==============================] - 3s 19ms/step - loss: 0.0172 - accuracy: 0.9970 - val_loss: 3.2267 - val_accuracy: 0.5442\n",
            "Epoch 32/100\n",
            "157/157 [==============================] - 3s 20ms/step - loss: 0.0148 - accuracy: 0.9976 - val_loss: 3.0951 - val_accuracy: 0.5381\n",
            "Epoch 33/100\n",
            "157/157 [==============================] - 3s 19ms/step - loss: 0.0103 - accuracy: 0.9981 - val_loss: 3.2142 - val_accuracy: 0.5426\n",
            "Epoch 34/100\n",
            "157/157 [==============================] - 3s 19ms/step - loss: 0.0114 - accuracy: 0.9980 - val_loss: 3.1579 - val_accuracy: 0.5436\n",
            "Epoch 35/100\n",
            "157/157 [==============================] - 3s 20ms/step - loss: 0.0095 - accuracy: 0.9981 - val_loss: 3.0649 - val_accuracy: 0.5322\n",
            "Epoch 36/100\n",
            "157/157 [==============================] - 3s 19ms/step - loss: 0.0103 - accuracy: 0.9980 - val_loss: 3.2126 - val_accuracy: 0.5448\n",
            "Epoch 37/100\n",
            "157/157 [==============================] - 3s 20ms/step - loss: 0.0086 - accuracy: 0.9980 - val_loss: 3.1508 - val_accuracy: 0.5420\n",
            "Epoch 38/100\n",
            "157/157 [==============================] - 3s 19ms/step - loss: 0.0085 - accuracy: 0.9981 - val_loss: 3.0904 - val_accuracy: 0.5453\n",
            "Epoch 39/100\n",
            "157/157 [==============================] - 3s 19ms/step - loss: 0.0083 - accuracy: 0.9980 - val_loss: 3.1776 - val_accuracy: 0.5432\n",
            "Epoch 40/100\n",
            "157/157 [==============================] - 3s 19ms/step - loss: 0.0077 - accuracy: 0.9981 - val_loss: 3.1242 - val_accuracy: 0.5408\n",
            "Epoch 41/100\n",
            "157/157 [==============================] - 3s 19ms/step - loss: 0.0073 - accuracy: 0.9980 - val_loss: 3.2096 - val_accuracy: 0.5437\n",
            "Epoch 42/100\n",
            "157/157 [==============================] - 3s 19ms/step - loss: 0.0075 - accuracy: 0.9982 - val_loss: 3.2521 - val_accuracy: 0.5437\n",
            "Epoch 43/100\n",
            "157/157 [==============================] - 3s 20ms/step - loss: 0.0073 - accuracy: 0.9981 - val_loss: 3.1736 - val_accuracy: 0.5399\n",
            "Epoch 44/100\n",
            "157/157 [==============================] - 3s 20ms/step - loss: 0.0066 - accuracy: 0.9982 - val_loss: 3.2018 - val_accuracy: 0.5432\n",
            "Epoch 45/100\n",
            "157/157 [==============================] - 3s 19ms/step - loss: 0.0068 - accuracy: 0.9982 - val_loss: 3.1034 - val_accuracy: 0.5414\n",
            "Epoch 46/100\n",
            "157/157 [==============================] - 3s 19ms/step - loss: 0.0064 - accuracy: 0.9983 - val_loss: 3.2425 - val_accuracy: 0.5391\n",
            "Epoch 47/100\n",
            "157/157 [==============================] - 3s 19ms/step - loss: 0.0062 - accuracy: 0.9983 - val_loss: 3.1768 - val_accuracy: 0.5443\n",
            "Epoch 48/100\n",
            "157/157 [==============================] - 3s 19ms/step - loss: 0.0064 - accuracy: 0.9981 - val_loss: 3.2517 - val_accuracy: 0.5456\n",
            "Epoch 49/100\n",
            "157/157 [==============================] - 3s 20ms/step - loss: 0.0062 - accuracy: 0.9982 - val_loss: 3.2136 - val_accuracy: 0.5460\n",
            "Epoch 50/100\n",
            "157/157 [==============================] - 3s 20ms/step - loss: 0.0061 - accuracy: 0.9982 - val_loss: 3.2422 - val_accuracy: 0.5488\n",
            "Epoch 51/100\n",
            "157/157 [==============================] - 3s 20ms/step - loss: 0.0056 - accuracy: 0.9983 - val_loss: 3.2571 - val_accuracy: 0.5420\n",
            "Epoch 52/100\n",
            "157/157 [==============================] - 3s 19ms/step - loss: 0.0052 - accuracy: 0.9984 - val_loss: 3.2313 - val_accuracy: 0.5496\n",
            "Epoch 53/100\n",
            "157/157 [==============================] - 3s 20ms/step - loss: 0.0056 - accuracy: 0.9984 - val_loss: 3.2619 - val_accuracy: 0.5439\n",
            "Epoch 54/100\n",
            "157/157 [==============================] - 3s 19ms/step - loss: 0.0054 - accuracy: 0.9983 - val_loss: 3.2504 - val_accuracy: 0.5468\n",
            "Epoch 55/100\n",
            "157/157 [==============================] - 3s 19ms/step - loss: 0.0057 - accuracy: 0.9982 - val_loss: 3.1711 - val_accuracy: 0.5463\n",
            "Epoch 56/100\n",
            "157/157 [==============================] - 3s 19ms/step - loss: 0.0054 - accuracy: 0.9981 - val_loss: 3.1951 - val_accuracy: 0.5428\n",
            "Epoch 57/100\n",
            "157/157 [==============================] - 3s 20ms/step - loss: 0.0052 - accuracy: 0.9983 - val_loss: 3.3153 - val_accuracy: 0.5435\n",
            "Epoch 58/100\n",
            "157/157 [==============================] - 3s 20ms/step - loss: 0.0053 - accuracy: 0.9983 - val_loss: 3.2250 - val_accuracy: 0.5464\n",
            "Epoch 59/100\n",
            "157/157 [==============================] - 3s 20ms/step - loss: 0.0048 - accuracy: 0.9983 - val_loss: 3.2209 - val_accuracy: 0.5449\n",
            "Epoch 60/100\n",
            "157/157 [==============================] - 3s 19ms/step - loss: 0.0051 - accuracy: 0.9982 - val_loss: 3.2627 - val_accuracy: 0.5381\n",
            "Epoch 61/100\n",
            "157/157 [==============================] - 3s 20ms/step - loss: 0.0056 - accuracy: 0.9982 - val_loss: 3.2442 - val_accuracy: 0.5406\n",
            "Epoch 62/100\n",
            "157/157 [==============================] - 3s 20ms/step - loss: 0.0050 - accuracy: 0.9984 - val_loss: 3.2562 - val_accuracy: 0.5442\n",
            "Epoch 63/100\n",
            "157/157 [==============================] - 3s 20ms/step - loss: 0.0053 - accuracy: 0.9980 - val_loss: 3.2102 - val_accuracy: 0.5429\n",
            "Epoch 64/100\n",
            "157/157 [==============================] - 3s 20ms/step - loss: 0.0049 - accuracy: 0.9983 - val_loss: 3.2693 - val_accuracy: 0.5452\n",
            "Epoch 65/100\n",
            "157/157 [==============================] - 3s 19ms/step - loss: 0.0050 - accuracy: 0.9982 - val_loss: 3.1941 - val_accuracy: 0.5420\n",
            "Epoch 66/100\n",
            "157/157 [==============================] - 3s 20ms/step - loss: 0.0047 - accuracy: 0.9982 - val_loss: 3.2611 - val_accuracy: 0.5445\n",
            "Epoch 67/100\n",
            "157/157 [==============================] - 3s 20ms/step - loss: 0.0044 - accuracy: 0.9985 - val_loss: 3.2545 - val_accuracy: 0.5409\n",
            "Epoch 68/100\n",
            "157/157 [==============================] - 3s 20ms/step - loss: 0.0051 - accuracy: 0.9980 - val_loss: 3.2757 - val_accuracy: 0.5486\n",
            "Epoch 69/100\n",
            "157/157 [==============================] - 3s 20ms/step - loss: 0.0043 - accuracy: 0.9985 - val_loss: 3.2582 - val_accuracy: 0.5487\n",
            "Epoch 70/100\n",
            "157/157 [==============================] - 3s 20ms/step - loss: 0.0047 - accuracy: 0.9982 - val_loss: 3.3160 - val_accuracy: 0.5401\n",
            "Epoch 71/100\n",
            "157/157 [==============================] - 3s 20ms/step - loss: 0.0045 - accuracy: 0.9985 - val_loss: 3.2479 - val_accuracy: 0.5459\n",
            "Epoch 72/100\n",
            "157/157 [==============================] - 3s 20ms/step - loss: 0.0045 - accuracy: 0.9983 - val_loss: 3.3078 - val_accuracy: 0.5466\n",
            "Epoch 73/100\n",
            "157/157 [==============================] - 3s 20ms/step - loss: 0.0044 - accuracy: 0.9983 - val_loss: 3.3036 - val_accuracy: 0.5415\n",
            "Epoch 74/100\n",
            "157/157 [==============================] - 3s 19ms/step - loss: 0.0042 - accuracy: 0.9983 - val_loss: 3.2939 - val_accuracy: 0.5443\n",
            "Epoch 75/100\n",
            "157/157 [==============================] - 3s 20ms/step - loss: 0.0044 - accuracy: 0.9983 - val_loss: 3.2995 - val_accuracy: 0.5472\n",
            "Epoch 76/100\n",
            "157/157 [==============================] - 3s 20ms/step - loss: 0.0043 - accuracy: 0.9983 - val_loss: 3.3160 - val_accuracy: 0.5432\n",
            "Epoch 77/100\n",
            "157/157 [==============================] - 3s 20ms/step - loss: 0.0045 - accuracy: 0.9983 - val_loss: 3.2790 - val_accuracy: 0.5467\n",
            "Epoch 78/100\n",
            "157/157 [==============================] - 3s 20ms/step - loss: 0.0044 - accuracy: 0.9982 - val_loss: 3.2712 - val_accuracy: 0.5432\n",
            "Epoch 79/100\n",
            "157/157 [==============================] - 3s 21ms/step - loss: 0.0044 - accuracy: 0.9982 - val_loss: 3.3118 - val_accuracy: 0.5474\n",
            "Epoch 80/100\n",
            "157/157 [==============================] - 3s 20ms/step - loss: 0.0046 - accuracy: 0.9982 - val_loss: 3.2634 - val_accuracy: 0.5458\n",
            "Epoch 81/100\n",
            "157/157 [==============================] - 3s 20ms/step - loss: 0.0047 - accuracy: 0.9982 - val_loss: 3.3217 - val_accuracy: 0.5456\n",
            "Epoch 82/100\n",
            "157/157 [==============================] - 3s 20ms/step - loss: 0.0043 - accuracy: 0.9983 - val_loss: 3.2720 - val_accuracy: 0.5464\n",
            "Epoch 83/100\n",
            "157/157 [==============================] - 3s 20ms/step - loss: 0.0041 - accuracy: 0.9983 - val_loss: 3.3661 - val_accuracy: 0.5431\n",
            "Epoch 84/100\n",
            "157/157 [==============================] - 3s 20ms/step - loss: 0.0045 - accuracy: 0.9982 - val_loss: 3.2703 - val_accuracy: 0.5465\n",
            "Epoch 85/100\n",
            "157/157 [==============================] - 3s 20ms/step - loss: 0.0042 - accuracy: 0.9982 - val_loss: 3.2939 - val_accuracy: 0.5430\n",
            "Epoch 86/100\n",
            "157/157 [==============================] - 3s 20ms/step - loss: 0.0042 - accuracy: 0.9983 - val_loss: 3.2812 - val_accuracy: 0.5424\n",
            "Epoch 87/100\n",
            "157/157 [==============================] - 3s 20ms/step - loss: 0.0041 - accuracy: 0.9984 - val_loss: 3.3014 - val_accuracy: 0.5435\n",
            "Epoch 88/100\n",
            "157/157 [==============================] - 3s 20ms/step - loss: 0.0042 - accuracy: 0.9982 - val_loss: 3.3251 - val_accuracy: 0.5422\n",
            "Epoch 89/100\n",
            "157/157 [==============================] - 3s 21ms/step - loss: 0.0042 - accuracy: 0.9982 - val_loss: 3.3180 - val_accuracy: 0.5429\n",
            "Epoch 90/100\n",
            "157/157 [==============================] - 3s 20ms/step - loss: 0.0041 - accuracy: 0.9983 - val_loss: 3.2911 - val_accuracy: 0.5429\n",
            "Epoch 91/100\n",
            "157/157 [==============================] - 3s 20ms/step - loss: 0.0038 - accuracy: 0.9985 - val_loss: 3.3140 - val_accuracy: 0.5441\n",
            "Epoch 92/100\n",
            "157/157 [==============================] - 3s 20ms/step - loss: 0.0038 - accuracy: 0.9984 - val_loss: 3.3482 - val_accuracy: 0.5462\n",
            "Epoch 93/100\n",
            "157/157 [==============================] - 3s 21ms/step - loss: 0.0040 - accuracy: 0.9982 - val_loss: 3.3139 - val_accuracy: 0.5412\n",
            "Epoch 94/100\n",
            "157/157 [==============================] - 3s 20ms/step - loss: 0.0042 - accuracy: 0.9982 - val_loss: 3.2683 - val_accuracy: 0.5426\n",
            "Epoch 95/100\n",
            "157/157 [==============================] - 3s 20ms/step - loss: 0.0042 - accuracy: 0.9982 - val_loss: 3.3505 - val_accuracy: 0.5421\n",
            "Epoch 96/100\n",
            "157/157 [==============================] - 3s 19ms/step - loss: 0.0038 - accuracy: 0.9985 - val_loss: 3.3088 - val_accuracy: 0.5414\n",
            "Epoch 97/100\n",
            "157/157 [==============================] - 3s 20ms/step - loss: 0.0037 - accuracy: 0.9984 - val_loss: 3.3528 - val_accuracy: 0.5444\n",
            "Epoch 98/100\n",
            "157/157 [==============================] - 3s 20ms/step - loss: 0.0037 - accuracy: 0.9985 - val_loss: 3.3118 - val_accuracy: 0.5457\n",
            "Epoch 99/100\n",
            "157/157 [==============================] - 3s 20ms/step - loss: 0.0036 - accuracy: 0.9986 - val_loss: 3.3556 - val_accuracy: 0.5457\n",
            "Epoch 100/100\n",
            "157/157 [==============================] - 3s 20ms/step - loss: 0.0038 - accuracy: 0.9984 - val_loss: 3.3402 - val_accuracy: 0.5472\n"
          ]
        }
      ]
    },
    {
      "cell_type": "code",
      "source": [
        "plt.plot(history.history['accuracy'])\n",
        "plt.plot(history.history['val_accuracy'])\n",
        "plt.title('Model Accuracy')\n",
        "plt.xlabel('epoch')\n",
        "plt.legend(['Train','Valition'], loc='upper left')\n",
        "plt.show()"
      ],
      "metadata": {
        "colab": {
          "base_uri": "https://localhost:8080/",
          "height": 295
        },
        "id": "nUn_SPpzXFO1",
        "outputId": "67bef8f8-50b8-40ce-b6ee-c7d51ae14a9e"
      },
      "execution_count": null,
      "outputs": [
        {
          "output_type": "display_data",
          "data": {
            "text/plain": [
              "<Figure size 432x288 with 1 Axes>"
            ],
            "image/png": "[encoded data removed]"
          },
          "metadata": {
            "needs_background": "light"
          }
        }
      ]
    },
    {
      "cell_type": "code",
      "source": [
        "model.save('/content/drive/MyDrive/project/emotion_model.h5')"
      ],
      "metadata": {
        "id": "mFUm06wDw4m2"
      },
      "execution_count": null,
      "outputs": []
    }
  ]
}