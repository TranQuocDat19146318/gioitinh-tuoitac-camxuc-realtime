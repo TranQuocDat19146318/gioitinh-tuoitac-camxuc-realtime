{
  "cells": [
    {
      "cell_type": "markdown",
      "metadata": {
        "id": "view-in-github",
        "colab_type": "text"
      },
      "source": [
        "<a href=\"https://colab.research.google.com/github/TranQuocDat19146318/gioitinh-tuoitac-camxuc-realtime/blob/main/train_gender.ipynb\" target=\"_parent\"><img src=\"https://colab.research.google.com/assets/colab-badge.svg\" alt=\"Open In Colab\"/></a>"
      ]
    },
    {
      "cell_type": "code",
      "execution_count": null,
      "metadata": {
        "colab": {
          "base_uri": "https://localhost:8080/"
        },
        "id": "NXk6UQRqPplY",
        "outputId": "8db12c90-f1a4-4380-828d-5df47067ffff"
      },
      "outputs": [
        {
          "name": "stdout",
          "output_type": "stream",
          "text": [
            "Mounted at /content/drive\n"
          ]
        }
      ],
      "source": [
        "from google.colab import drive \n",
        "drive.mount('/content/drive')"
      ]
    },
    {
      "cell_type": "code",
      "execution_count": null,
      "metadata": {
        "id": "9vVubMUSP3oa"
      },
      "outputs": [],
      "source": [
        "from keras import datasets, Sequential\n",
        "from keras.layers import Conv2D, Dense, MaxPooling2D, Flatten\n",
        "from keras.preprocessing import  image\n",
        "from keras.preprocessing.image import load_img, img_to_array,array_to_img,ImageDataGenerator\n",
        "import matplotlib.pyplot as plt\n",
        "import seaborn as sns\n",
        "import numpy as np\n",
        "from numpy import asarray\n",
        "from numpy import save\n",
        "import keras\n",
        "import os\n",
        "from os import listdir\n",
        "import cv2 as cv\n",
        "import tensorflow as tf\n",
        "from tensorflow.keras.optimizers import Adam, SGD\n",
        "from sklearn.model_selection import train_test_split"
      ]
    },
    {
      "cell_type": "code",
      "execution_count": null,
      "metadata": {
        "colab": {
          "base_uri": "https://localhost:8080/"
        },
        "id": "hpVnvJOXP8rb",
        "outputId": "3d062a7d-cd7e-4544-98d4-0fbb103f2a26"
      },
      "outputs": [
        {
          "output_type": "stream",
          "name": "stdout",
          "text": [
            "(11649, 100, 100, 3) (11649,)\n"
          ]
        }
      ],
      "source": [
        "folder  = '/content/drive/MyDrive/project/gender/Validation/female'\n",
        "folder1 ='/content/drive/MyDrive/project/gender/Validation/male'\n",
        "\n",
        "folders=[folder,folder1]\n",
        "photos, labels = list(), list()\n",
        "for i in range (2):\n",
        "  for file in listdir(folders[i]):\n",
        "    output=i\n",
        "    photo = load_img(folders[i]+'/'+file, target_size=(100,100))\n",
        "    photo = img_to_array(photo)\n",
        "    photos.append(photo)\n",
        "    labels.append(output)\n",
        "photos = asarray(photos)\n",
        "labels = asarray(labels)\n",
        "print(photos.shape, labels.shape)\n",
        "save('/content/drive/MyDrive/project/fer13/photo/emotionphotos.npy',photos)\n",
        "save('/content/drive/MyDrive/project/fer13/label/emotionlabels.npy',labels)"
      ]
    },
    {
      "cell_type": "code",
      "execution_count": null,
      "metadata": {
        "id": "qlo3nUiNSnk9"
      },
      "outputs": [],
      "source": [
        "x_train, x_test, y_train, y_test = train_test_split(photos, labels, test_size=0.3, random_state=2)"
      ]
    },
    {
      "cell_type": "code",
      "execution_count": null,
      "metadata": {
        "id": "FToUTBqFSrTF"
      },
      "outputs": [],
      "source": [
        "x_train /= 255\n",
        "x_test /= 255\n",
        "y_train = keras.utils.np_utils.to_categorical(y_train)\n",
        "y_test = keras.utils.np_utils.to_categorical(y_test)"
      ]
    },
    {
      "cell_type": "code",
      "execution_count": null,
      "metadata": {
        "id": "U0R__pqFSsuN"
      },
      "outputs": [],
      "source": [
        "#tạo model\n",
        "model = Sequential()\n",
        "model.add(Conv2D(32,(3,3), activation = 'relu', kernel_initializer='he_uniform',padding='same',input_shape=(100,100,3)))\n",
        "model.add(MaxPooling2D((2,2)))\n",
        "\n",
        "model.add(Conv2D(64,(3,3), activation = 'relu', kernel_initializer='he_uniform',padding='same'))\n",
        "model.add(MaxPooling2D((2,2)))\n",
        "\n",
        "model.add(Conv2D(128,(3,3), activation = 'relu', kernel_initializer='he_uniform',padding='same'))\n",
        "model.add(MaxPooling2D((2,2)))\n",
        "\n",
        "model.add(Conv2D(512,(3,3), activation = 'relu', kernel_initializer='he_uniform',padding='same'))\n",
        "model.add(MaxPooling2D((2,2)))"
      ]
    },
    {
      "cell_type": "code",
      "execution_count": null,
      "metadata": {
        "id": "45JE48EgS05s"
      },
      "outputs": [],
      "source": [
        "model.add(Flatten())\n",
        "model.add(Dense(512, activation='relu', kernel_initializer='he_uniform'))  #Dense la full connected \n",
        "model.add(Dense(2, activation='Softmax')) "
      ]
    },
    {
      "cell_type": "code",
      "execution_count": null,
      "metadata": {
        "colab": {
          "base_uri": "https://localhost:8080/"
        },
        "id": "Z3B6TZwNS8e_",
        "outputId": "7c08a776-9ca8-42b7-e0f3-d7a984a2f1ab"
      },
      "outputs": [
        {
          "output_type": "stream",
          "name": "stderr",
          "text": [
            "/usr/local/lib/python3.7/dist-packages/keras/optimizer_v2/gradient_descent.py:102: UserWarning: The `lr` argument is deprecated, use `learning_rate` instead.\n",
            "  super(SGD, self).__init__(name, **kwargs)\n"
          ]
        }
      ],
      "source": [
        "opt = SGD(lr=0.01, momentum=0.9)\n",
        "model.compile(optimizer=opt,loss='categorical_crossentropy',  metrics=['accuracy'])"
      ]
    },
    {
      "cell_type": "code",
      "execution_count": null,
      "metadata": {
        "colab": {
          "base_uri": "https://localhost:8080/"
        },
        "id": "TZjmEm1YS--e",
        "outputId": "c9d0e7df-42b2-4a99-fec5-691258e02834"
      },
      "outputs": [
        {
          "output_type": "stream",
          "name": "stdout",
          "text": [
            "Epoch 1/100\n",
            "64/64 [==============================] - 7s 84ms/step - loss: 1.0393 - accuracy: 0.5912 - val_loss: 0.6294 - val_accuracy: 0.6793\n",
            "Epoch 2/100\n",
            "64/64 [==============================] - 5s 78ms/step - loss: 0.5171 - accuracy: 0.7514 - val_loss: 0.4009 - val_accuracy: 0.8143\n",
            "Epoch 3/100\n",
            "64/64 [==============================] - 4s 69ms/step - loss: 0.3327 - accuracy: 0.8572 - val_loss: 0.2589 - val_accuracy: 0.8973\n",
            "Epoch 4/100\n",
            "64/64 [==============================] - 4s 69ms/step - loss: 0.2379 - accuracy: 0.9052 - val_loss: 0.1992 - val_accuracy: 0.9233\n",
            "Epoch 5/100\n",
            "64/64 [==============================] - 5s 72ms/step - loss: 0.1803 - accuracy: 0.9321 - val_loss: 0.1684 - val_accuracy: 0.9402\n",
            "Epoch 6/100\n",
            "64/64 [==============================] - 4s 69ms/step - loss: 0.1538 - accuracy: 0.9427 - val_loss: 0.1858 - val_accuracy: 0.9236\n",
            "Epoch 7/100\n",
            "64/64 [==============================] - 5s 77ms/step - loss: 0.1287 - accuracy: 0.9539 - val_loss: 0.1514 - val_accuracy: 0.9428\n",
            "Epoch 8/100\n",
            "64/64 [==============================] - 4s 70ms/step - loss: 0.1096 - accuracy: 0.9592 - val_loss: 0.1374 - val_accuracy: 0.9471\n",
            "Epoch 9/100\n",
            "64/64 [==============================] - 4s 70ms/step - loss: 0.0921 - accuracy: 0.9664 - val_loss: 0.1376 - val_accuracy: 0.9522\n",
            "Epoch 10/100\n",
            "64/64 [==============================] - 4s 70ms/step - loss: 0.0873 - accuracy: 0.9691 - val_loss: 0.1345 - val_accuracy: 0.9488\n",
            "Epoch 11/100\n",
            "64/64 [==============================] - 4s 69ms/step - loss: 0.0843 - accuracy: 0.9677 - val_loss: 0.1260 - val_accuracy: 0.9525\n",
            "Epoch 12/100\n",
            "64/64 [==============================] - 4s 69ms/step - loss: 0.0761 - accuracy: 0.9717 - val_loss: 0.1214 - val_accuracy: 0.9534\n",
            "Epoch 13/100\n",
            "64/64 [==============================] - 4s 68ms/step - loss: 0.0589 - accuracy: 0.9777 - val_loss: 0.1245 - val_accuracy: 0.9557\n",
            "Epoch 14/100\n",
            "64/64 [==============================] - 4s 69ms/step - loss: 0.0642 - accuracy: 0.9731 - val_loss: 0.1663 - val_accuracy: 0.9402\n",
            "Epoch 15/100\n",
            "64/64 [==============================] - 4s 69ms/step - loss: 0.0442 - accuracy: 0.9853 - val_loss: 0.1687 - val_accuracy: 0.9385\n",
            "Epoch 16/100\n",
            "64/64 [==============================] - 4s 69ms/step - loss: 0.0298 - accuracy: 0.9907 - val_loss: 0.1551 - val_accuracy: 0.9471\n",
            "Epoch 17/100\n",
            "64/64 [==============================] - 4s 68ms/step - loss: 0.0204 - accuracy: 0.9939 - val_loss: 0.1555 - val_accuracy: 0.9519\n",
            "Epoch 18/100\n",
            "64/64 [==============================] - 4s 69ms/step - loss: 0.0172 - accuracy: 0.9942 - val_loss: 0.1617 - val_accuracy: 0.9491\n",
            "Epoch 19/100\n",
            "64/64 [==============================] - 5s 78ms/step - loss: 0.0165 - accuracy: 0.9951 - val_loss: 0.1592 - val_accuracy: 0.9516\n",
            "Epoch 20/100\n",
            "64/64 [==============================] - 4s 69ms/step - loss: 0.0073 - accuracy: 0.9985 - val_loss: 0.1817 - val_accuracy: 0.9499\n",
            "Epoch 21/100\n",
            "64/64 [==============================] - 4s 68ms/step - loss: 0.0058 - accuracy: 0.9993 - val_loss: 0.1623 - val_accuracy: 0.9551\n",
            "Epoch 22/100\n",
            "64/64 [==============================] - 4s 69ms/step - loss: 0.0025 - accuracy: 1.0000 - val_loss: 0.1619 - val_accuracy: 0.9551\n",
            "Epoch 23/100\n",
            "64/64 [==============================] - 4s 69ms/step - loss: 0.0019 - accuracy: 1.0000 - val_loss: 0.1762 - val_accuracy: 0.9559\n",
            "Epoch 24/100\n",
            "64/64 [==============================] - 4s 69ms/step - loss: 0.0016 - accuracy: 1.0000 - val_loss: 0.1755 - val_accuracy: 0.9554\n",
            "Epoch 25/100\n",
            "64/64 [==============================] - 4s 69ms/step - loss: 0.0011 - accuracy: 1.0000 - val_loss: 0.1750 - val_accuracy: 0.9551\n",
            "Epoch 26/100\n",
            "64/64 [==============================] - 4s 69ms/step - loss: 9.6677e-04 - accuracy: 1.0000 - val_loss: 0.1782 - val_accuracy: 0.9551\n",
            "Epoch 27/100\n",
            "64/64 [==============================] - 4s 69ms/step - loss: 9.0866e-04 - accuracy: 1.0000 - val_loss: 0.1813 - val_accuracy: 0.9551\n",
            "Epoch 28/100\n",
            "64/64 [==============================] - 4s 69ms/step - loss: 7.9515e-04 - accuracy: 1.0000 - val_loss: 0.1829 - val_accuracy: 0.9554\n",
            "Epoch 29/100\n",
            "64/64 [==============================] - 4s 69ms/step - loss: 6.7819e-04 - accuracy: 1.0000 - val_loss: 0.1849 - val_accuracy: 0.9554\n",
            "Epoch 30/100\n",
            "64/64 [==============================] - 4s 69ms/step - loss: 6.0841e-04 - accuracy: 1.0000 - val_loss: 0.1875 - val_accuracy: 0.9554\n",
            "Epoch 31/100\n",
            "64/64 [==============================] - 4s 68ms/step - loss: 5.5737e-04 - accuracy: 1.0000 - val_loss: 0.1918 - val_accuracy: 0.9548\n",
            "Epoch 32/100\n",
            "64/64 [==============================] - 4s 69ms/step - loss: 5.1021e-04 - accuracy: 1.0000 - val_loss: 0.1912 - val_accuracy: 0.9548\n",
            "Epoch 33/100\n",
            "64/64 [==============================] - 4s 68ms/step - loss: 4.8356e-04 - accuracy: 1.0000 - val_loss: 0.1945 - val_accuracy: 0.9557\n",
            "Epoch 34/100\n",
            "64/64 [==============================] - 4s 69ms/step - loss: 4.3908e-04 - accuracy: 1.0000 - val_loss: 0.1951 - val_accuracy: 0.9557\n",
            "Epoch 35/100\n",
            "64/64 [==============================] - 4s 68ms/step - loss: 4.2805e-04 - accuracy: 1.0000 - val_loss: 0.1963 - val_accuracy: 0.9554\n",
            "Epoch 36/100\n",
            "64/64 [==============================] - 4s 68ms/step - loss: 3.8902e-04 - accuracy: 1.0000 - val_loss: 0.1990 - val_accuracy: 0.9554\n",
            "Epoch 37/100\n",
            "64/64 [==============================] - 4s 69ms/step - loss: 3.6297e-04 - accuracy: 1.0000 - val_loss: 0.1989 - val_accuracy: 0.9554\n",
            "Epoch 38/100\n",
            "64/64 [==============================] - 4s 69ms/step - loss: 3.4322e-04 - accuracy: 1.0000 - val_loss: 0.2014 - val_accuracy: 0.9557\n",
            "Epoch 39/100\n",
            "64/64 [==============================] - 4s 69ms/step - loss: 3.1985e-04 - accuracy: 1.0000 - val_loss: 0.2024 - val_accuracy: 0.9559\n",
            "Epoch 40/100\n",
            "64/64 [==============================] - 4s 68ms/step - loss: 3.0414e-04 - accuracy: 1.0000 - val_loss: 0.2038 - val_accuracy: 0.9559\n",
            "Epoch 41/100\n",
            "64/64 [==============================] - 4s 69ms/step - loss: 2.9219e-04 - accuracy: 1.0000 - val_loss: 0.2044 - val_accuracy: 0.9559\n",
            "Epoch 42/100\n",
            "64/64 [==============================] - 4s 69ms/step - loss: 2.7854e-04 - accuracy: 1.0000 - val_loss: 0.2065 - val_accuracy: 0.9557\n",
            "Epoch 43/100\n",
            "64/64 [==============================] - 4s 69ms/step - loss: 2.6775e-04 - accuracy: 1.0000 - val_loss: 0.2079 - val_accuracy: 0.9557\n",
            "Epoch 44/100\n",
            "64/64 [==============================] - 4s 68ms/step - loss: 2.5263e-04 - accuracy: 1.0000 - val_loss: 0.2084 - val_accuracy: 0.9554\n",
            "Epoch 45/100\n",
            "64/64 [==============================] - 4s 68ms/step - loss: 2.4397e-04 - accuracy: 1.0000 - val_loss: 0.2098 - val_accuracy: 0.9554\n",
            "Epoch 46/100\n",
            "64/64 [==============================] - 4s 68ms/step - loss: 2.3103e-04 - accuracy: 1.0000 - val_loss: 0.2106 - val_accuracy: 0.9557\n",
            "Epoch 47/100\n",
            "64/64 [==============================] - 4s 69ms/step - loss: 2.2338e-04 - accuracy: 1.0000 - val_loss: 0.2124 - val_accuracy: 0.9562\n",
            "Epoch 48/100\n",
            "64/64 [==============================] - 4s 69ms/step - loss: 2.1715e-04 - accuracy: 1.0000 - val_loss: 0.2131 - val_accuracy: 0.9559\n",
            "Epoch 49/100\n",
            "64/64 [==============================] - 4s 69ms/step - loss: 2.0744e-04 - accuracy: 1.0000 - val_loss: 0.2134 - val_accuracy: 0.9557\n",
            "Epoch 50/100\n",
            "64/64 [==============================] - 5s 78ms/step - loss: 1.9928e-04 - accuracy: 1.0000 - val_loss: 0.2148 - val_accuracy: 0.9562\n",
            "Epoch 51/100\n",
            "64/64 [==============================] - 4s 69ms/step - loss: 1.8912e-04 - accuracy: 1.0000 - val_loss: 0.2153 - val_accuracy: 0.9559\n",
            "Epoch 52/100\n",
            "64/64 [==============================] - 4s 69ms/step - loss: 1.8501e-04 - accuracy: 1.0000 - val_loss: 0.2162 - val_accuracy: 0.9559\n",
            "Epoch 53/100\n",
            "64/64 [==============================] - 4s 69ms/step - loss: 1.7650e-04 - accuracy: 1.0000 - val_loss: 0.2169 - val_accuracy: 0.9562\n",
            "Epoch 54/100\n",
            "64/64 [==============================] - 4s 69ms/step - loss: 1.7350e-04 - accuracy: 1.0000 - val_loss: 0.2186 - val_accuracy: 0.9557\n",
            "Epoch 55/100\n",
            "64/64 [==============================] - 5s 78ms/step - loss: 1.6529e-04 - accuracy: 1.0000 - val_loss: 0.2186 - val_accuracy: 0.9554\n",
            "Epoch 56/100\n",
            "64/64 [==============================] - 4s 70ms/step - loss: 1.6008e-04 - accuracy: 1.0000 - val_loss: 0.2194 - val_accuracy: 0.9557\n",
            "Epoch 57/100\n",
            "64/64 [==============================] - 4s 69ms/step - loss: 1.5707e-04 - accuracy: 1.0000 - val_loss: 0.2201 - val_accuracy: 0.9559\n",
            "Epoch 58/100\n",
            "64/64 [==============================] - 5s 78ms/step - loss: 1.5204e-04 - accuracy: 1.0000 - val_loss: 0.2203 - val_accuracy: 0.9562\n",
            "Epoch 59/100\n",
            "64/64 [==============================] - 4s 69ms/step - loss: 1.4760e-04 - accuracy: 1.0000 - val_loss: 0.2216 - val_accuracy: 0.9557\n",
            "Epoch 60/100\n",
            "64/64 [==============================] - 4s 69ms/step - loss: 1.4337e-04 - accuracy: 1.0000 - val_loss: 0.2219 - val_accuracy: 0.9557\n",
            "Epoch 61/100\n",
            "64/64 [==============================] - 4s 69ms/step - loss: 1.3939e-04 - accuracy: 1.0000 - val_loss: 0.2233 - val_accuracy: 0.9559\n",
            "Epoch 62/100\n",
            "64/64 [==============================] - 4s 69ms/step - loss: 1.3604e-04 - accuracy: 1.0000 - val_loss: 0.2234 - val_accuracy: 0.9559\n",
            "Epoch 63/100\n",
            "64/64 [==============================] - 4s 69ms/step - loss: 1.3188e-04 - accuracy: 1.0000 - val_loss: 0.2246 - val_accuracy: 0.9562\n",
            "Epoch 64/100\n",
            "64/64 [==============================] - 4s 69ms/step - loss: 1.2864e-04 - accuracy: 1.0000 - val_loss: 0.2249 - val_accuracy: 0.9557\n",
            "Epoch 65/100\n",
            "64/64 [==============================] - 4s 68ms/step - loss: 1.2549e-04 - accuracy: 1.0000 - val_loss: 0.2255 - val_accuracy: 0.9557\n",
            "Epoch 66/100\n",
            "64/64 [==============================] - 4s 69ms/step - loss: 1.2339e-04 - accuracy: 1.0000 - val_loss: 0.2261 - val_accuracy: 0.9559\n",
            "Epoch 67/100\n",
            "64/64 [==============================] - 4s 69ms/step - loss: 1.1859e-04 - accuracy: 1.0000 - val_loss: 0.2267 - val_accuracy: 0.9562\n",
            "Epoch 68/100\n",
            "64/64 [==============================] - 4s 69ms/step - loss: 1.1672e-04 - accuracy: 1.0000 - val_loss: 0.2271 - val_accuracy: 0.9559\n",
            "Epoch 69/100\n",
            "64/64 [==============================] - 4s 68ms/step - loss: 1.1323e-04 - accuracy: 1.0000 - val_loss: 0.2275 - val_accuracy: 0.9559\n",
            "Epoch 70/100\n",
            "64/64 [==============================] - 4s 69ms/step - loss: 1.1192e-04 - accuracy: 1.0000 - val_loss: 0.2285 - val_accuracy: 0.9557\n",
            "Epoch 71/100\n",
            "64/64 [==============================] - 4s 69ms/step - loss: 1.0848e-04 - accuracy: 1.0000 - val_loss: 0.2291 - val_accuracy: 0.9554\n",
            "Epoch 72/100\n",
            "64/64 [==============================] - 4s 69ms/step - loss: 1.0595e-04 - accuracy: 1.0000 - val_loss: 0.2303 - val_accuracy: 0.9559\n",
            "Epoch 73/100\n",
            "64/64 [==============================] - 5s 78ms/step - loss: 1.0470e-04 - accuracy: 1.0000 - val_loss: 0.2307 - val_accuracy: 0.9559\n",
            "Epoch 74/100\n",
            "64/64 [==============================] - 4s 70ms/step - loss: 1.0163e-04 - accuracy: 1.0000 - val_loss: 0.2305 - val_accuracy: 0.9557\n",
            "Epoch 75/100\n",
            "64/64 [==============================] - 4s 69ms/step - loss: 9.9493e-05 - accuracy: 1.0000 - val_loss: 0.2316 - val_accuracy: 0.9559\n",
            "Epoch 76/100\n",
            "64/64 [==============================] - 4s 69ms/step - loss: 9.8540e-05 - accuracy: 1.0000 - val_loss: 0.2314 - val_accuracy: 0.9559\n",
            "Epoch 77/100\n",
            "64/64 [==============================] - 4s 69ms/step - loss: 9.5235e-05 - accuracy: 1.0000 - val_loss: 0.2322 - val_accuracy: 0.9554\n",
            "Epoch 78/100\n",
            "64/64 [==============================] - 4s 69ms/step - loss: 9.3866e-05 - accuracy: 1.0000 - val_loss: 0.2326 - val_accuracy: 0.9557\n",
            "Epoch 79/100\n",
            "64/64 [==============================] - 4s 69ms/step - loss: 9.1624e-05 - accuracy: 1.0000 - val_loss: 0.2330 - val_accuracy: 0.9559\n",
            "Epoch 80/100\n",
            "64/64 [==============================] - 4s 69ms/step - loss: 9.0821e-05 - accuracy: 1.0000 - val_loss: 0.2340 - val_accuracy: 0.9559\n",
            "Epoch 81/100\n",
            "64/64 [==============================] - 4s 69ms/step - loss: 8.7854e-05 - accuracy: 1.0000 - val_loss: 0.2357 - val_accuracy: 0.9554\n",
            "Epoch 82/100\n",
            "64/64 [==============================] - 4s 69ms/step - loss: 8.7654e-05 - accuracy: 1.0000 - val_loss: 0.2347 - val_accuracy: 0.9557\n",
            "Epoch 83/100\n",
            "64/64 [==============================] - 4s 68ms/step - loss: 8.4974e-05 - accuracy: 1.0000 - val_loss: 0.2351 - val_accuracy: 0.9554\n",
            "Epoch 84/100\n",
            "64/64 [==============================] - 4s 69ms/step - loss: 8.3844e-05 - accuracy: 1.0000 - val_loss: 0.2356 - val_accuracy: 0.9559\n",
            "Epoch 85/100\n",
            "64/64 [==============================] - 4s 69ms/step - loss: 8.1871e-05 - accuracy: 1.0000 - val_loss: 0.2354 - val_accuracy: 0.9557\n",
            "Epoch 86/100\n",
            "64/64 [==============================] - 4s 69ms/step - loss: 8.0759e-05 - accuracy: 1.0000 - val_loss: 0.2366 - val_accuracy: 0.9559\n",
            "Epoch 87/100\n",
            "64/64 [==============================] - 4s 69ms/step - loss: 7.9745e-05 - accuracy: 1.0000 - val_loss: 0.2362 - val_accuracy: 0.9559\n",
            "Epoch 88/100\n",
            "64/64 [==============================] - 5s 78ms/step - loss: 7.7911e-05 - accuracy: 1.0000 - val_loss: 0.2368 - val_accuracy: 0.9559\n",
            "Epoch 89/100\n",
            "64/64 [==============================] - 4s 69ms/step - loss: 7.6261e-05 - accuracy: 1.0000 - val_loss: 0.2372 - val_accuracy: 0.9554\n",
            "Epoch 90/100\n",
            "64/64 [==============================] - 4s 69ms/step - loss: 7.5024e-05 - accuracy: 1.0000 - val_loss: 0.2386 - val_accuracy: 0.9559\n",
            "Epoch 91/100\n",
            "64/64 [==============================] - 4s 69ms/step - loss: 7.4017e-05 - accuracy: 1.0000 - val_loss: 0.2384 - val_accuracy: 0.9559\n",
            "Epoch 92/100\n",
            "64/64 [==============================] - 4s 69ms/step - loss: 7.3100e-05 - accuracy: 1.0000 - val_loss: 0.2386 - val_accuracy: 0.9559\n",
            "Epoch 93/100\n",
            "64/64 [==============================] - 4s 69ms/step - loss: 7.1773e-05 - accuracy: 1.0000 - val_loss: 0.2401 - val_accuracy: 0.9559\n",
            "Epoch 94/100\n",
            "64/64 [==============================] - 4s 69ms/step - loss: 7.0433e-05 - accuracy: 1.0000 - val_loss: 0.2401 - val_accuracy: 0.9559\n",
            "Epoch 95/100\n",
            "64/64 [==============================] - 4s 69ms/step - loss: 6.9396e-05 - accuracy: 1.0000 - val_loss: 0.2402 - val_accuracy: 0.9559\n",
            "Epoch 96/100\n",
            "64/64 [==============================] - 4s 70ms/step - loss: 6.8217e-05 - accuracy: 1.0000 - val_loss: 0.2399 - val_accuracy: 0.9557\n",
            "Epoch 97/100\n",
            "64/64 [==============================] - 5s 73ms/step - loss: 6.7383e-05 - accuracy: 1.0000 - val_loss: 0.2407 - val_accuracy: 0.9562\n",
            "Epoch 98/100\n",
            "64/64 [==============================] - 4s 69ms/step - loss: 6.6184e-05 - accuracy: 1.0000 - val_loss: 0.2411 - val_accuracy: 0.9562\n",
            "Epoch 99/100\n",
            "64/64 [==============================] - 4s 69ms/step - loss: 6.5123e-05 - accuracy: 1.0000 - val_loss: 0.2413 - val_accuracy: 0.9557\n",
            "Epoch 100/100\n",
            "64/64 [==============================] - 4s 69ms/step - loss: 6.4481e-05 - accuracy: 1.0000 - val_loss: 0.2414 - val_accuracy: 0.9559\n"
          ]
        }
      ],
      "source": [
        "history = model.fit(x_train, y_train, batch_size=128, epochs=100, verbose=1,validation_data=(x_test, y_test))"
      ]
    },
    {
      "cell_type": "code",
      "execution_count": null,
      "metadata": {
        "colab": {
          "base_uri": "https://localhost:8080/",
          "height": 295
        },
        "id": "PvVQ4TDsUSKC",
        "outputId": "80fb0788-0f2c-44c2-d977-2a6206ed0571"
      },
      "outputs": [
        {
          "output_type": "display_data",
          "data": {
            "text/plain": [
              "<Figure size 432x288 with 1 Axes>"
            ],
            "image/png": "[encoded data removed]"
          },
          "metadata": {
            "needs_background": "light"
          }
        }
      ],
      "source": [
        "plt.plot(history.history['accuracy'])\n",
        "plt.plot(history.history['val_accuracy'])\n",
        "plt.title('Model Accuracy')\n",
        "plt.xlabel('epoch')\n",
        "plt.legend(['Train','Valition'], loc='upper left')\n",
        "plt.show()"
      ]
    },
    {
      "cell_type": "code",
      "execution_count": null,
      "metadata": {
        "id": "g1B0M0uGrmbF"
      },
      "outputs": [],
      "source": [
        "model.save('/content/drive/MyDrive/project/gender_model.h5')"
      ]
    }
  ],
  "metadata": {
    "accelerator": "GPU",
    "colab": {
      "collapsed_sections": [],
      "name": " train gender",
      "provenance": [],
      "include_colab_link": true
    },
    "kernelspec": {
      "display_name": "Python 3",
      "name": "python3"
    },
    "language_info": {
      "name": "python"
    }
  },
  "nbformat": 4,
  "nbformat_minor": 0
}